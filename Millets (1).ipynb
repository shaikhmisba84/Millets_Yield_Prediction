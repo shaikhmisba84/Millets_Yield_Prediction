{
  "nbformat": 4,
  "nbformat_minor": 0,
  "metadata": {
    "colab": {
      "provenance": []
    },
    "kernelspec": {
      "name": "python3",
      "display_name": "Python 3"
    },
    "language_info": {
      "name": "python"
    }
  },
  "cells": [
    {
      "cell_type": "code",
      "source": [
        "from google.colab import drive\n",
        "drive.mount('/content/drive')"
      ],
      "metadata": {
        "colab": {
          "base_uri": "https://localhost:8080/"
        },
        "id": "pjM8v7hdnF0k",
        "outputId": "9dff94e5-c6d9-411a-ab8c-7f9fb53dca7f"
      },
      "execution_count": 1,
      "outputs": [
        {
          "output_type": "stream",
          "name": "stdout",
          "text": [
            "Drive already mounted at /content/drive; to attempt to forcibly remount, call drive.mount(\"/content/drive\", force_remount=True).\n"
          ]
        }
      ]
    },
    {
      "cell_type": "code",
      "execution_count": 2,
      "metadata": {
        "id": "JhWp2RlhnCCL"
      },
      "outputs": [],
      "source": [
        "import pandas as pd\n",
        "import seaborn as sns\n",
        "import numpy as np#import basic library\n",
        "import numpy as np\n",
        "import pandas as pd\n",
        "import matplotlib.pyplot as plt\n",
        "import seaborn as sns\n",
        "\n",
        "import warnings\n",
        "warnings.filterwarnings(\"ignore\")\n",
        "\n",
        "from sklearn.model_selection import train_test_split\n",
        "from sklearn.preprocessing import StandardScaler\n",
        "from sklearn.metrics import mean_squared_error, mean_absolute_error\n",
        "\n",
        "import tensorflow as tf\n",
        "from tensorflow.keras.layers import Dense, Dropout\n",
        "from tensorflow.keras.models import Sequential\n",
        ""
      ]
    },
    {
      "cell_type": "code",
      "source": [
        "df = pd.read_excel(\"/content/drive/MyDrive/DataSet/apy-milletstats.xlsx\")\n",
        "df.head()"
      ],
      "metadata": {
        "colab": {
          "base_uri": "https://localhost:8080/",
          "height": 206
        },
        "id": "2YZgcMwsnrXk",
        "outputId": "e3852464-3ef2-48a1-eef0-ed7d9f1d9a78"
      },
      "execution_count": 3,
      "outputs": [
        {
          "output_type": "execute_result",
          "data": {
            "text/plain": [
              "                   Crop     Year                                   State  \\\n",
              "0  Finger Millet (Ragi)  1966-67  All India                                \n",
              "1  Finger Millet (Ragi)  1967-68  All India                                \n",
              "2  Finger Millet (Ragi)  1968-69  All India                                \n",
              "3  Finger Millet (Ragi)  1969-70  All India                                \n",
              "4  Finger Millet (Ragi)  1970-71  All India                                \n",
              "\n",
              "  Area ('000 Hectares)  Production ('000 Tonnes)  Yield (Kg per Ha))  \n",
              "0               1984.2                    1630.6          821.792158  \n",
              "1               2291.2                    1884.2          822.363827  \n",
              "2               2238.2                    1648.0          736.305960  \n",
              "3               2783.4                    2117.2          760.652439  \n",
              "4               2472.4                    2155.0          871.622715  "
            ],
            "text/html": [
              "\n",
              "  <div id=\"df-6775ec4a-22df-43db-9b39-d988ddbbf4ed\">\n",
              "    <div class=\"colab-df-container\">\n",
              "      <div>\n",
              "<style scoped>\n",
              "    .dataframe tbody tr th:only-of-type {\n",
              "        vertical-align: middle;\n",
              "    }\n",
              "\n",
              "    .dataframe tbody tr th {\n",
              "        vertical-align: top;\n",
              "    }\n",
              "\n",
              "    .dataframe thead th {\n",
              "        text-align: right;\n",
              "    }\n",
              "</style>\n",
              "<table border=\"1\" class=\"dataframe\">\n",
              "  <thead>\n",
              "    <tr style=\"text-align: right;\">\n",
              "      <th></th>\n",
              "      <th>Crop</th>\n",
              "      <th>Year</th>\n",
              "      <th>State</th>\n",
              "      <th>Area ('000 Hectares)</th>\n",
              "      <th>Production ('000 Tonnes)</th>\n",
              "      <th>Yield (Kg per Ha))</th>\n",
              "    </tr>\n",
              "  </thead>\n",
              "  <tbody>\n",
              "    <tr>\n",
              "      <th>0</th>\n",
              "      <td>Finger Millet (Ragi)</td>\n",
              "      <td>1966-67</td>\n",
              "      <td>All India</td>\n",
              "      <td>1984.2</td>\n",
              "      <td>1630.6</td>\n",
              "      <td>821.792158</td>\n",
              "    </tr>\n",
              "    <tr>\n",
              "      <th>1</th>\n",
              "      <td>Finger Millet (Ragi)</td>\n",
              "      <td>1967-68</td>\n",
              "      <td>All India</td>\n",
              "      <td>2291.2</td>\n",
              "      <td>1884.2</td>\n",
              "      <td>822.363827</td>\n",
              "    </tr>\n",
              "    <tr>\n",
              "      <th>2</th>\n",
              "      <td>Finger Millet (Ragi)</td>\n",
              "      <td>1968-69</td>\n",
              "      <td>All India</td>\n",
              "      <td>2238.2</td>\n",
              "      <td>1648.0</td>\n",
              "      <td>736.305960</td>\n",
              "    </tr>\n",
              "    <tr>\n",
              "      <th>3</th>\n",
              "      <td>Finger Millet (Ragi)</td>\n",
              "      <td>1969-70</td>\n",
              "      <td>All India</td>\n",
              "      <td>2783.4</td>\n",
              "      <td>2117.2</td>\n",
              "      <td>760.652439</td>\n",
              "    </tr>\n",
              "    <tr>\n",
              "      <th>4</th>\n",
              "      <td>Finger Millet (Ragi)</td>\n",
              "      <td>1970-71</td>\n",
              "      <td>All India</td>\n",
              "      <td>2472.4</td>\n",
              "      <td>2155.0</td>\n",
              "      <td>871.622715</td>\n",
              "    </tr>\n",
              "  </tbody>\n",
              "</table>\n",
              "</div>\n",
              "      <button class=\"colab-df-convert\" onclick=\"convertToInteractive('df-6775ec4a-22df-43db-9b39-d988ddbbf4ed')\"\n",
              "              title=\"Convert this dataframe to an interactive table.\"\n",
              "              style=\"display:none;\">\n",
              "        \n",
              "  <svg xmlns=\"http://www.w3.org/2000/svg\" height=\"24px\"viewBox=\"0 0 24 24\"\n",
              "       width=\"24px\">\n",
              "    <path d=\"M0 0h24v24H0V0z\" fill=\"none\"/>\n",
              "    <path d=\"M18.56 5.44l.94 2.06.94-2.06 2.06-.94-2.06-.94-.94-2.06-.94 2.06-2.06.94zm-11 1L8.5 8.5l.94-2.06 2.06-.94-2.06-.94L8.5 2.5l-.94 2.06-2.06.94zm10 10l.94 2.06.94-2.06 2.06-.94-2.06-.94-.94-2.06-.94 2.06-2.06.94z\"/><path d=\"M17.41 7.96l-1.37-1.37c-.4-.4-.92-.59-1.43-.59-.52 0-1.04.2-1.43.59L10.3 9.45l-7.72 7.72c-.78.78-.78 2.05 0 2.83L4 21.41c.39.39.9.59 1.41.59.51 0 1.02-.2 1.41-.59l7.78-7.78 2.81-2.81c.8-.78.8-2.07 0-2.86zM5.41 20L4 18.59l7.72-7.72 1.47 1.35L5.41 20z\"/>\n",
              "  </svg>\n",
              "      </button>\n",
              "      \n",
              "  <style>\n",
              "    .colab-df-container {\n",
              "      display:flex;\n",
              "      flex-wrap:wrap;\n",
              "      gap: 12px;\n",
              "    }\n",
              "\n",
              "    .colab-df-convert {\n",
              "      background-color: #E8F0FE;\n",
              "      border: none;\n",
              "      border-radius: 50%;\n",
              "      cursor: pointer;\n",
              "      display: none;\n",
              "      fill: #1967D2;\n",
              "      height: 32px;\n",
              "      padding: 0 0 0 0;\n",
              "      width: 32px;\n",
              "    }\n",
              "\n",
              "    .colab-df-convert:hover {\n",
              "      background-color: #E2EBFA;\n",
              "      box-shadow: 0px 1px 2px rgba(60, 64, 67, 0.3), 0px 1px 3px 1px rgba(60, 64, 67, 0.15);\n",
              "      fill: #174EA6;\n",
              "    }\n",
              "\n",
              "    [theme=dark] .colab-df-convert {\n",
              "      background-color: #3B4455;\n",
              "      fill: #D2E3FC;\n",
              "    }\n",
              "\n",
              "    [theme=dark] .colab-df-convert:hover {\n",
              "      background-color: #434B5C;\n",
              "      box-shadow: 0px 1px 3px 1px rgba(0, 0, 0, 0.15);\n",
              "      filter: drop-shadow(0px 1px 2px rgba(0, 0, 0, 0.3));\n",
              "      fill: #FFFFFF;\n",
              "    }\n",
              "  </style>\n",
              "\n",
              "      <script>\n",
              "        const buttonEl =\n",
              "          document.querySelector('#df-6775ec4a-22df-43db-9b39-d988ddbbf4ed button.colab-df-convert');\n",
              "        buttonEl.style.display =\n",
              "          google.colab.kernel.accessAllowed ? 'block' : 'none';\n",
              "\n",
              "        async function convertToInteractive(key) {\n",
              "          const element = document.querySelector('#df-6775ec4a-22df-43db-9b39-d988ddbbf4ed');\n",
              "          const dataTable =\n",
              "            await google.colab.kernel.invokeFunction('convertToInteractive',\n",
              "                                                     [key], {});\n",
              "          if (!dataTable) return;\n",
              "\n",
              "          const docLinkHtml = 'Like what you see? Visit the ' +\n",
              "            '<a target=\"_blank\" href=https://colab.research.google.com/notebooks/data_table.ipynb>data table notebook</a>'\n",
              "            + ' to learn more about interactive tables.';\n",
              "          element.innerHTML = '';\n",
              "          dataTable['output_type'] = 'display_data';\n",
              "          await google.colab.output.renderOutput(dataTable, element);\n",
              "          const docLink = document.createElement('div');\n",
              "          docLink.innerHTML = docLinkHtml;\n",
              "          element.appendChild(docLink);\n",
              "        }\n",
              "      </script>\n",
              "    </div>\n",
              "  </div>\n",
              "  "
            ]
          },
          "metadata": {},
          "execution_count": 3
        }
      ]
    },
    {
      "cell_type": "code",
      "source": [
        "df.shape"
      ],
      "metadata": {
        "colab": {
          "base_uri": "https://localhost:8080/"
        },
        "id": "QMDG7lmm3MLt",
        "outputId": "a3f6603d-ccb2-4a84-d1fb-22671045da40"
      },
      "execution_count": 4,
      "outputs": [
        {
          "output_type": "execute_result",
          "data": {
            "text/plain": [
              "(4796, 6)"
            ]
          },
          "metadata": {},
          "execution_count": 4
        }
      ]
    },
    {
      "cell_type": "code",
      "source": [
        "df.duplicated().sum()"
      ],
      "metadata": {
        "colab": {
          "base_uri": "https://localhost:8080/"
        },
        "id": "z4BuKP4o3q8x",
        "outputId": "8a07d560-0bf4-4e5b-803f-3d00f9d7064f"
      },
      "execution_count": 5,
      "outputs": [
        {
          "output_type": "execute_result",
          "data": {
            "text/plain": [
              "0"
            ]
          },
          "metadata": {},
          "execution_count": 5
        }
      ]
    },
    {
      "cell_type": "code",
      "source": [
        "df.dtypes"
      ],
      "metadata": {
        "colab": {
          "base_uri": "https://localhost:8080/"
        },
        "id": "rIX6VC1tp1Lq",
        "outputId": "a9652267-2ea6-4ee5-cc4a-e75041b778f5"
      },
      "execution_count": 6,
      "outputs": [
        {
          "output_type": "execute_result",
          "data": {
            "text/plain": [
              "Crop                         object\n",
              "Year                         object\n",
              "State                        object\n",
              "Area ('000 Hectares)         object\n",
              "Production ('000 Tonnes)    float64\n",
              "Yield (Kg per Ha))          float64\n",
              "dtype: object"
            ]
          },
          "metadata": {},
          "execution_count": 6
        }
      ]
    },
    {
      "cell_type": "code",
      "source": [
        "df.isnull().sum()/df.shape[0]*100"
      ],
      "metadata": {
        "colab": {
          "base_uri": "https://localhost:8080/"
        },
        "id": "NWR-92PFh_pz",
        "outputId": "e0bfe97e-0a76-403f-984f-eb9c777688ab"
      },
      "execution_count": 7,
      "outputs": [
        {
          "output_type": "execute_result",
          "data": {
            "text/plain": [
              "Crop                         0.000000\n",
              "Year                         0.000000\n",
              "State                        0.000000\n",
              "Area ('000 Hectares)        12.572977\n",
              "Production ('000 Tonnes)    13.448707\n",
              "Yield (Kg per Ha))          14.282736\n",
              "dtype: float64"
            ]
          },
          "metadata": {},
          "execution_count": 7
        }
      ]
    },
    {
      "cell_type": "code",
      "source": [
        "df[\"Area ('000 Hectares)\"] = df[\"Area ('000 Hectares)\"].replace(\".\", np.nan, regex=True)"
      ],
      "metadata": {
        "id": "Axgk15L-jtG_"
      },
      "execution_count": 8,
      "outputs": []
    },
    {
      "cell_type": "code",
      "source": [
        "from numpy import nan\n",
        "df[\"Area ('000 Hectares)\"].replace(np.nan,0.0,inplace=True)\n"
      ],
      "metadata": {
        "id": "W2VpPkvxfWgh"
      },
      "execution_count": 9,
      "outputs": []
    },
    {
      "cell_type": "code",
      "source": [
        "df[\"Area ('000 Hectares)\"].astype('float64')"
      ],
      "metadata": {
        "colab": {
          "base_uri": "https://localhost:8080/"
        },
        "id": "VqLrOOT6hdQX",
        "outputId": "c2ac4979-996c-4ede-f677-a33cae960d4b"
      },
      "execution_count": 10,
      "outputs": [
        {
          "output_type": "execute_result",
          "data": {
            "text/plain": [
              "0       1984.200\n",
              "1       2291.200\n",
              "2       2238.200\n",
              "3       2783.400\n",
              "4       2472.400\n",
              "          ...   \n",
              "4791       0.040\n",
              "4792       0.026\n",
              "4793       0.040\n",
              "4794       0.064\n",
              "4795       0.180\n",
              "Name: Area ('000 Hectares), Length: 4796, dtype: float64"
            ]
          },
          "metadata": {},
          "execution_count": 10
        }
      ]
    },
    {
      "cell_type": "code",
      "source": [
        "df.dtypes"
      ],
      "metadata": {
        "colab": {
          "base_uri": "https://localhost:8080/"
        },
        "id": "ObcgbOO9iEuH",
        "outputId": "782f8d4a-415a-46b9-8aa6-30c1722af46d"
      },
      "execution_count": 11,
      "outputs": [
        {
          "output_type": "execute_result",
          "data": {
            "text/plain": [
              "Crop                         object\n",
              "Year                         object\n",
              "State                        object\n",
              "Area ('000 Hectares)        float64\n",
              "Production ('000 Tonnes)    float64\n",
              "Yield (Kg per Ha))          float64\n",
              "dtype: object"
            ]
          },
          "metadata": {},
          "execution_count": 11
        }
      ]
    },
    {
      "cell_type": "code",
      "source": [
        "a=df[\"Area ('000 Hectares)\"].mean()\n",
        "df[\"Area ('000 Hectares)\"].replace(0.0,a,inplace=True)"
      ],
      "metadata": {
        "id": "lgEIlzpaBkyl"
      },
      "execution_count": 12,
      "outputs": []
    },
    {
      "cell_type": "code",
      "source": [
        "b=df[\"Production ('000 Tonnes)\"].mean()\n",
        "df[\"Production ('000 Tonnes)\"].fillna(a,inplace=True)"
      ],
      "metadata": {
        "id": "I1JQbFMDa14r"
      },
      "execution_count": 13,
      "outputs": []
    },
    {
      "cell_type": "code",
      "source": [
        "b=df[\"Yield (Kg per Ha))\"].mean()\n",
        "df[\"Yield (Kg per Ha))\"].fillna(a,inplace=True)"
      ],
      "metadata": {
        "id": "QbVps_0vhvl7"
      },
      "execution_count": 14,
      "outputs": []
    },
    {
      "cell_type": "code",
      "source": [
        "df.isnull().sum()/df.shape[0]*100"
      ],
      "metadata": {
        "colab": {
          "base_uri": "https://localhost:8080/"
        },
        "id": "3J54wdxan4T8",
        "outputId": "ffcf3e88-1223-4f00-c1a3-006561e1e2fe"
      },
      "execution_count": 15,
      "outputs": [
        {
          "output_type": "execute_result",
          "data": {
            "text/plain": [
              "Crop                        0.0\n",
              "Year                        0.0\n",
              "State                       0.0\n",
              "Area ('000 Hectares)        0.0\n",
              "Production ('000 Tonnes)    0.0\n",
              "Yield (Kg per Ha))          0.0\n",
              "dtype: float64"
            ]
          },
          "metadata": {},
          "execution_count": 15
        }
      ]
    },
    {
      "cell_type": "code",
      "source": [
        "#separate object type columns and numeric type column and hold on new dataframe\n",
        "df_cat=df.select_dtypes(object)\n",
        "df_cat.dtypes"
      ],
      "metadata": {
        "colab": {
          "base_uri": "https://localhost:8080/"
        },
        "id": "5oBbqCV7pgdo",
        "outputId": "4f3ce78d-6c69-446c-a1bc-d367906ee6ab"
      },
      "execution_count": 16,
      "outputs": [
        {
          "output_type": "execute_result",
          "data": {
            "text/plain": [
              "Crop     object\n",
              "Year     object\n",
              "State    object\n",
              "dtype: object"
            ]
          },
          "metadata": {},
          "execution_count": 16
        }
      ]
    },
    {
      "cell_type": "code",
      "source": [
        "from sklearn.preprocessing import LabelEncoder\n",
        "le=LabelEncoder()\n",
        "for col in df_cat:\n",
        "  df_cat[col]=le.fit_transform(df_cat[col])\n"
      ],
      "metadata": {
        "id": "_tC_dwY1orn1"
      },
      "execution_count": 17,
      "outputs": []
    },
    {
      "cell_type": "code",
      "source": [
        "df_num=df.select_dtypes(['int64','float64'])\n",
        "df_num.dtypes"
      ],
      "metadata": {
        "colab": {
          "base_uri": "https://localhost:8080/"
        },
        "id": "10c1Pbv0pjzj",
        "outputId": "cb82916e-e2f5-4466-fa8b-437daa04b352"
      },
      "execution_count": 18,
      "outputs": [
        {
          "output_type": "execute_result",
          "data": {
            "text/plain": [
              "Area ('000 Hectares)        float64\n",
              "Production ('000 Tonnes)    float64\n",
              "Yield (Kg per Ha))          float64\n",
              "dtype: object"
            ]
          },
          "metadata": {},
          "execution_count": 18
        }
      ]
    },
    {
      "cell_type": "code",
      "source": [
        "df_new=pd.concat([df_num,df_cat],axis=1)\n",
        "df_new.head()"
      ],
      "metadata": {
        "colab": {
          "base_uri": "https://localhost:8080/",
          "height": 206
        },
        "id": "2BeAjlKgtNw8",
        "outputId": "adfff76d-9644-4110-d875-fc0a4496b330"
      },
      "execution_count": 19,
      "outputs": [
        {
          "output_type": "execute_result",
          "data": {
            "text/plain": [
              "   Area ('000 Hectares)  Production ('000 Tonnes)  Yield (Kg per Ha))  Crop  \\\n",
              "0                1984.2                    1630.6          821.792158     0   \n",
              "1                2291.2                    1884.2          822.363827     0   \n",
              "2                2238.2                    1648.0          736.305960     0   \n",
              "3                2783.4                    2117.2          760.652439     0   \n",
              "4                2472.4                    2155.0          871.622715     0   \n",
              "\n",
              "   Year  State  \n",
              "0     0      0  \n",
              "1     1      0  \n",
              "2     2      0  \n",
              "3     3      0  \n",
              "4     4      0  "
            ],
            "text/html": [
              "\n",
              "  <div id=\"df-a81307cc-b7f9-44e7-a64e-af53dab3ee59\">\n",
              "    <div class=\"colab-df-container\">\n",
              "      <div>\n",
              "<style scoped>\n",
              "    .dataframe tbody tr th:only-of-type {\n",
              "        vertical-align: middle;\n",
              "    }\n",
              "\n",
              "    .dataframe tbody tr th {\n",
              "        vertical-align: top;\n",
              "    }\n",
              "\n",
              "    .dataframe thead th {\n",
              "        text-align: right;\n",
              "    }\n",
              "</style>\n",
              "<table border=\"1\" class=\"dataframe\">\n",
              "  <thead>\n",
              "    <tr style=\"text-align: right;\">\n",
              "      <th></th>\n",
              "      <th>Area ('000 Hectares)</th>\n",
              "      <th>Production ('000 Tonnes)</th>\n",
              "      <th>Yield (Kg per Ha))</th>\n",
              "      <th>Crop</th>\n",
              "      <th>Year</th>\n",
              "      <th>State</th>\n",
              "    </tr>\n",
              "  </thead>\n",
              "  <tbody>\n",
              "    <tr>\n",
              "      <th>0</th>\n",
              "      <td>1984.2</td>\n",
              "      <td>1630.6</td>\n",
              "      <td>821.792158</td>\n",
              "      <td>0</td>\n",
              "      <td>0</td>\n",
              "      <td>0</td>\n",
              "    </tr>\n",
              "    <tr>\n",
              "      <th>1</th>\n",
              "      <td>2291.2</td>\n",
              "      <td>1884.2</td>\n",
              "      <td>822.363827</td>\n",
              "      <td>0</td>\n",
              "      <td>1</td>\n",
              "      <td>0</td>\n",
              "    </tr>\n",
              "    <tr>\n",
              "      <th>2</th>\n",
              "      <td>2238.2</td>\n",
              "      <td>1648.0</td>\n",
              "      <td>736.305960</td>\n",
              "      <td>0</td>\n",
              "      <td>2</td>\n",
              "      <td>0</td>\n",
              "    </tr>\n",
              "    <tr>\n",
              "      <th>3</th>\n",
              "      <td>2783.4</td>\n",
              "      <td>2117.2</td>\n",
              "      <td>760.652439</td>\n",
              "      <td>0</td>\n",
              "      <td>3</td>\n",
              "      <td>0</td>\n",
              "    </tr>\n",
              "    <tr>\n",
              "      <th>4</th>\n",
              "      <td>2472.4</td>\n",
              "      <td>2155.0</td>\n",
              "      <td>871.622715</td>\n",
              "      <td>0</td>\n",
              "      <td>4</td>\n",
              "      <td>0</td>\n",
              "    </tr>\n",
              "  </tbody>\n",
              "</table>\n",
              "</div>\n",
              "      <button class=\"colab-df-convert\" onclick=\"convertToInteractive('df-a81307cc-b7f9-44e7-a64e-af53dab3ee59')\"\n",
              "              title=\"Convert this dataframe to an interactive table.\"\n",
              "              style=\"display:none;\">\n",
              "        \n",
              "  <svg xmlns=\"http://www.w3.org/2000/svg\" height=\"24px\"viewBox=\"0 0 24 24\"\n",
              "       width=\"24px\">\n",
              "    <path d=\"M0 0h24v24H0V0z\" fill=\"none\"/>\n",
              "    <path d=\"M18.56 5.44l.94 2.06.94-2.06 2.06-.94-2.06-.94-.94-2.06-.94 2.06-2.06.94zm-11 1L8.5 8.5l.94-2.06 2.06-.94-2.06-.94L8.5 2.5l-.94 2.06-2.06.94zm10 10l.94 2.06.94-2.06 2.06-.94-2.06-.94-.94-2.06-.94 2.06-2.06.94z\"/><path d=\"M17.41 7.96l-1.37-1.37c-.4-.4-.92-.59-1.43-.59-.52 0-1.04.2-1.43.59L10.3 9.45l-7.72 7.72c-.78.78-.78 2.05 0 2.83L4 21.41c.39.39.9.59 1.41.59.51 0 1.02-.2 1.41-.59l7.78-7.78 2.81-2.81c.8-.78.8-2.07 0-2.86zM5.41 20L4 18.59l7.72-7.72 1.47 1.35L5.41 20z\"/>\n",
              "  </svg>\n",
              "      </button>\n",
              "      \n",
              "  <style>\n",
              "    .colab-df-container {\n",
              "      display:flex;\n",
              "      flex-wrap:wrap;\n",
              "      gap: 12px;\n",
              "    }\n",
              "\n",
              "    .colab-df-convert {\n",
              "      background-color: #E8F0FE;\n",
              "      border: none;\n",
              "      border-radius: 50%;\n",
              "      cursor: pointer;\n",
              "      display: none;\n",
              "      fill: #1967D2;\n",
              "      height: 32px;\n",
              "      padding: 0 0 0 0;\n",
              "      width: 32px;\n",
              "    }\n",
              "\n",
              "    .colab-df-convert:hover {\n",
              "      background-color: #E2EBFA;\n",
              "      box-shadow: 0px 1px 2px rgba(60, 64, 67, 0.3), 0px 1px 3px 1px rgba(60, 64, 67, 0.15);\n",
              "      fill: #174EA6;\n",
              "    }\n",
              "\n",
              "    [theme=dark] .colab-df-convert {\n",
              "      background-color: #3B4455;\n",
              "      fill: #D2E3FC;\n",
              "    }\n",
              "\n",
              "    [theme=dark] .colab-df-convert:hover {\n",
              "      background-color: #434B5C;\n",
              "      box-shadow: 0px 1px 3px 1px rgba(0, 0, 0, 0.15);\n",
              "      filter: drop-shadow(0px 1px 2px rgba(0, 0, 0, 0.3));\n",
              "      fill: #FFFFFF;\n",
              "    }\n",
              "  </style>\n",
              "\n",
              "      <script>\n",
              "        const buttonEl =\n",
              "          document.querySelector('#df-a81307cc-b7f9-44e7-a64e-af53dab3ee59 button.colab-df-convert');\n",
              "        buttonEl.style.display =\n",
              "          google.colab.kernel.accessAllowed ? 'block' : 'none';\n",
              "\n",
              "        async function convertToInteractive(key) {\n",
              "          const element = document.querySelector('#df-a81307cc-b7f9-44e7-a64e-af53dab3ee59');\n",
              "          const dataTable =\n",
              "            await google.colab.kernel.invokeFunction('convertToInteractive',\n",
              "                                                     [key], {});\n",
              "          if (!dataTable) return;\n",
              "\n",
              "          const docLinkHtml = 'Like what you see? Visit the ' +\n",
              "            '<a target=\"_blank\" href=https://colab.research.google.com/notebooks/data_table.ipynb>data table notebook</a>'\n",
              "            + ' to learn more about interactive tables.';\n",
              "          element.innerHTML = '';\n",
              "          dataTable['output_type'] = 'display_data';\n",
              "          await google.colab.output.renderOutput(dataTable, element);\n",
              "          const docLink = document.createElement('div');\n",
              "          docLink.innerHTML = docLinkHtml;\n",
              "          element.appendChild(docLink);\n",
              "        }\n",
              "      </script>\n",
              "    </div>\n",
              "  </div>\n",
              "  "
            ]
          },
          "metadata": {},
          "execution_count": 19
        }
      ]
    },
    {
      "cell_type": "code",
      "source": [
        "x=df_new.drop(\"Yield (Kg per Ha))\",axis=1)\n",
        "y=df_new[\"Yield (Kg per Ha))\"]"
      ],
      "metadata": {
        "id": "FxwQl-osmh4o"
      },
      "execution_count": 20,
      "outputs": []
    },
    {
      "cell_type": "code",
      "source": [
        "from sklearn.model_selection import train_test_split\n",
        "xtrain,xtest,ytrain,ytest=train_test_split(x,y,test_size=0.3,random_state=1)"
      ],
      "metadata": {
        "id": "ckmVdJxymrB3"
      },
      "execution_count": 21,
      "outputs": []
    },
    {
      "cell_type": "code",
      "source": [
        "from sklearn.preprocessing import StandardScaler\n",
        "ss=StandardScaler()\n",
        "xtrain=ss.fit_transform(xtrain)\n",
        "xtest=ss.transform(xtest)"
      ],
      "metadata": {
        "id": "uOwuJSXsv2bf"
      },
      "execution_count": 22,
      "outputs": []
    },
    {
      "cell_type": "code",
      "source": [
        "from tensorflow.keras.callbacks import EarlyStopping\n",
        "\n",
        "model=Sequential()\n",
        "\n",
        "model.add(Dense(256, input_dim=5, activation=\"relu\"))\n",
        "model.add(Dense(256, activation=\"relu\"))\n",
        "model.add(Dense(128, activation=\"relu\"))\n",
        "model.add(Dense(64, activation=\"relu\"))\n",
        "model.add(Dense(32, activation=\"relu\"))\n",
        "model.add(Dense(16, activation=\"relu\"))\n",
        "model.add(Dense(8, activation=\"relu\"))\n",
        "model.add(Dense(1))\n",
        "\n",
        "model.compile(optimizer=\"adam\",loss=\"mse\") #complile model\n",
        "earlystop=EarlyStopping(monitor=\"val_loss\",mode=\"min\",verbose=1,patience=50) #use early stopping\n",
        "\n",
        "model.fit(xtrain,ytrain,epochs=500,validation_data=(xtest,ytest),callbacks=[earlystop], batch_size=64) #train data\n"
      ],
      "metadata": {
        "colab": {
          "base_uri": "https://localhost:8080/"
        },
        "id": "42JSgB-GtV_7",
        "outputId": "77e239a0-332b-41fc-9a3b-a6cac773dd9c"
      },
      "execution_count": 33,
      "outputs": [
        {
          "output_type": "stream",
          "name": "stdout",
          "text": [
            "Epoch 1/500\n",
            "53/53 [==============================] - 4s 34ms/step - loss: 182784180224.0000 - val_loss: 98451824640.0000\n",
            "Epoch 2/500\n",
            "53/53 [==============================] - 1s 15ms/step - loss: 182766370816.0000 - val_loss: 98400018432.0000\n",
            "Epoch 3/500\n",
            "53/53 [==============================] - 1s 15ms/step - loss: 182470852608.0000 - val_loss: 97951645696.0000\n",
            "Epoch 4/500\n",
            "53/53 [==============================] - 0s 9ms/step - loss: 181728690176.0000 - val_loss: 97478082560.0000\n",
            "Epoch 5/500\n",
            "53/53 [==============================] - 0s 8ms/step - loss: 180391772160.0000 - val_loss: 97069187072.0000\n",
            "Epoch 6/500\n",
            "53/53 [==============================] - 0s 8ms/step - loss: 179183452160.0000 - val_loss: 96220135424.0000\n",
            "Epoch 7/500\n",
            "53/53 [==============================] - 0s 8ms/step - loss: 177015209984.0000 - val_loss: 95574269952.0000\n",
            "Epoch 8/500\n",
            "53/53 [==============================] - 0s 8ms/step - loss: 174165245952.0000 - val_loss: 93398622208.0000\n",
            "Epoch 9/500\n",
            "53/53 [==============================] - 0s 8ms/step - loss: 171591974912.0000 - val_loss: 91701968896.0000\n",
            "Epoch 10/500\n",
            "53/53 [==============================] - 0s 8ms/step - loss: 162517663744.0000 - val_loss: 91254120448.0000\n",
            "Epoch 11/500\n",
            "53/53 [==============================] - 0s 8ms/step - loss: 155276296192.0000 - val_loss: 97133944832.0000\n",
            "Epoch 12/500\n",
            "53/53 [==============================] - 0s 8ms/step - loss: 145413652480.0000 - val_loss: 91511029760.0000\n",
            "Epoch 13/500\n",
            "53/53 [==============================] - 0s 8ms/step - loss: 141311836160.0000 - val_loss: 91853004800.0000\n",
            "Epoch 14/500\n",
            "53/53 [==============================] - 0s 8ms/step - loss: 140928270336.0000 - val_loss: 86220480512.0000\n",
            "Epoch 15/500\n",
            "53/53 [==============================] - 0s 8ms/step - loss: 135447617536.0000 - val_loss: 84996792320.0000\n",
            "Epoch 16/500\n",
            "53/53 [==============================] - 0s 8ms/step - loss: 136162377728.0000 - val_loss: 82735620096.0000\n",
            "Epoch 17/500\n",
            "53/53 [==============================] - 0s 8ms/step - loss: 124441206784.0000 - val_loss: 81862057984.0000\n",
            "Epoch 18/500\n",
            "53/53 [==============================] - 0s 9ms/step - loss: 126204305408.0000 - val_loss: 77263519744.0000\n",
            "Epoch 19/500\n",
            "53/53 [==============================] - 0s 8ms/step - loss: 132546150400.0000 - val_loss: 76127346688.0000\n",
            "Epoch 20/500\n",
            "53/53 [==============================] - 0s 8ms/step - loss: 120212586496.0000 - val_loss: 72276074496.0000\n",
            "Epoch 21/500\n",
            "53/53 [==============================] - 0s 8ms/step - loss: 118716342272.0000 - val_loss: 74800676864.0000\n",
            "Epoch 22/500\n",
            "53/53 [==============================] - 0s 8ms/step - loss: 108711337984.0000 - val_loss: 71040434176.0000\n",
            "Epoch 23/500\n",
            "53/53 [==============================] - 1s 10ms/step - loss: 114669723648.0000 - val_loss: 72231198720.0000\n",
            "Epoch 24/500\n",
            "53/53 [==============================] - 1s 13ms/step - loss: 99284738048.0000 - val_loss: 66661359616.0000\n",
            "Epoch 25/500\n",
            "53/53 [==============================] - 1s 13ms/step - loss: 95904563200.0000 - val_loss: 62155096064.0000\n",
            "Epoch 26/500\n",
            "53/53 [==============================] - 1s 13ms/step - loss: 87081705472.0000 - val_loss: 59351838720.0000\n",
            "Epoch 27/500\n",
            "53/53 [==============================] - 1s 13ms/step - loss: 84538368000.0000 - val_loss: 59846336512.0000\n",
            "Epoch 28/500\n",
            "53/53 [==============================] - 1s 13ms/step - loss: 69081530368.0000 - val_loss: 55672811520.0000\n",
            "Epoch 29/500\n",
            "53/53 [==============================] - 1s 11ms/step - loss: 61323169792.0000 - val_loss: 55728484352.0000\n",
            "Epoch 30/500\n",
            "53/53 [==============================] - 0s 8ms/step - loss: 52410748928.0000 - val_loss: 49282977792.0000\n",
            "Epoch 31/500\n",
            "53/53 [==============================] - 0s 8ms/step - loss: 45899223040.0000 - val_loss: 43051458560.0000\n",
            "Epoch 32/500\n",
            "53/53 [==============================] - 0s 8ms/step - loss: 33396385792.0000 - val_loss: 37074567168.0000\n",
            "Epoch 33/500\n",
            "53/53 [==============================] - 0s 8ms/step - loss: 32272668672.0000 - val_loss: 39475257344.0000\n",
            "Epoch 34/500\n",
            "53/53 [==============================] - 0s 8ms/step - loss: 24796956672.0000 - val_loss: 41325342720.0000\n",
            "Epoch 35/500\n",
            "53/53 [==============================] - 0s 8ms/step - loss: 23874107392.0000 - val_loss: 42775064576.0000\n",
            "Epoch 36/500\n",
            "53/53 [==============================] - 0s 8ms/step - loss: 21040844800.0000 - val_loss: 32135667712.0000\n",
            "Epoch 37/500\n",
            "53/53 [==============================] - 0s 8ms/step - loss: 20236032000.0000 - val_loss: 28832604160.0000\n",
            "Epoch 38/500\n",
            "53/53 [==============================] - 0s 8ms/step - loss: 18221787136.0000 - val_loss: 35824979968.0000\n",
            "Epoch 39/500\n",
            "53/53 [==============================] - 0s 8ms/step - loss: 18487609344.0000 - val_loss: 29063634944.0000\n",
            "Epoch 40/500\n",
            "53/53 [==============================] - 0s 8ms/step - loss: 18423187456.0000 - val_loss: 34233737216.0000\n",
            "Epoch 41/500\n",
            "53/53 [==============================] - 0s 9ms/step - loss: 20117633024.0000 - val_loss: 31568211968.0000\n",
            "Epoch 42/500\n",
            "53/53 [==============================] - 0s 8ms/step - loss: 17076664320.0000 - val_loss: 28898054144.0000\n",
            "Epoch 43/500\n",
            "53/53 [==============================] - 0s 8ms/step - loss: 17043170304.0000 - val_loss: 27739410432.0000\n",
            "Epoch 44/500\n",
            "53/53 [==============================] - 0s 8ms/step - loss: 14167854080.0000 - val_loss: 47443156992.0000\n",
            "Epoch 45/500\n",
            "53/53 [==============================] - 0s 7ms/step - loss: 16539056128.0000 - val_loss: 31582447616.0000\n",
            "Epoch 46/500\n",
            "53/53 [==============================] - 0s 8ms/step - loss: 16156157952.0000 - val_loss: 25907480576.0000\n",
            "Epoch 47/500\n",
            "53/53 [==============================] - 0s 7ms/step - loss: 16640756736.0000 - val_loss: 33125455872.0000\n",
            "Epoch 48/500\n",
            "53/53 [==============================] - 0s 7ms/step - loss: 17268211712.0000 - val_loss: 63328260096.0000\n",
            "Epoch 49/500\n",
            "53/53 [==============================] - 0s 8ms/step - loss: 20571498496.0000 - val_loss: 26405740544.0000\n",
            "Epoch 50/500\n",
            "53/53 [==============================] - 0s 7ms/step - loss: 18734702592.0000 - val_loss: 23454955520.0000\n",
            "Epoch 51/500\n",
            "53/53 [==============================] - 0s 8ms/step - loss: 15004153856.0000 - val_loss: 31065604096.0000\n",
            "Epoch 52/500\n",
            "53/53 [==============================] - 0s 8ms/step - loss: 16201150464.0000 - val_loss: 29105991680.0000\n",
            "Epoch 53/500\n",
            "53/53 [==============================] - 1s 9ms/step - loss: 14506419200.0000 - val_loss: 27860094976.0000\n",
            "Epoch 54/500\n",
            "53/53 [==============================] - 1s 13ms/step - loss: 19362457600.0000 - val_loss: 30217633792.0000\n",
            "Epoch 55/500\n",
            "53/53 [==============================] - 1s 12ms/step - loss: 15006757888.0000 - val_loss: 31662538752.0000\n",
            "Epoch 56/500\n",
            "53/53 [==============================] - 1s 14ms/step - loss: 15774227456.0000 - val_loss: 30881910784.0000\n",
            "Epoch 57/500\n",
            "53/53 [==============================] - 1s 12ms/step - loss: 13715079168.0000 - val_loss: 28366092288.0000\n",
            "Epoch 58/500\n",
            "53/53 [==============================] - 1s 12ms/step - loss: 13592254464.0000 - val_loss: 37579186176.0000\n",
            "Epoch 59/500\n",
            "53/53 [==============================] - 1s 12ms/step - loss: 14971201536.0000 - val_loss: 29899884544.0000\n",
            "Epoch 60/500\n",
            "53/53 [==============================] - 0s 9ms/step - loss: 15525981184.0000 - val_loss: 33019584512.0000\n",
            "Epoch 61/500\n",
            "53/53 [==============================] - 0s 8ms/step - loss: 13705893888.0000 - val_loss: 41163948032.0000\n",
            "Epoch 62/500\n",
            "53/53 [==============================] - 0s 8ms/step - loss: 23251992576.0000 - val_loss: 21917093888.0000\n",
            "Epoch 63/500\n",
            "53/53 [==============================] - 0s 8ms/step - loss: 14015167488.0000 - val_loss: 27188705280.0000\n",
            "Epoch 64/500\n",
            "53/53 [==============================] - 0s 8ms/step - loss: 15161989120.0000 - val_loss: 30508253184.0000\n",
            "Epoch 65/500\n",
            "53/53 [==============================] - 0s 7ms/step - loss: 18618687488.0000 - val_loss: 28982441984.0000\n",
            "Epoch 66/500\n",
            "53/53 [==============================] - 0s 8ms/step - loss: 17018345472.0000 - val_loss: 41639145472.0000\n",
            "Epoch 67/500\n",
            "53/53 [==============================] - 0s 9ms/step - loss: 14179490816.0000 - val_loss: 31119691776.0000\n",
            "Epoch 68/500\n",
            "53/53 [==============================] - 0s 8ms/step - loss: 14175533056.0000 - val_loss: 26613121024.0000\n",
            "Epoch 69/500\n",
            "53/53 [==============================] - 0s 8ms/step - loss: 14682144768.0000 - val_loss: 33504030720.0000\n",
            "Epoch 70/500\n",
            "53/53 [==============================] - 0s 7ms/step - loss: 17388623872.0000 - val_loss: 38812266496.0000\n",
            "Epoch 71/500\n",
            "53/53 [==============================] - 0s 7ms/step - loss: 16145784832.0000 - val_loss: 24811558912.0000\n",
            "Epoch 72/500\n",
            "53/53 [==============================] - 0s 8ms/step - loss: 12608498688.0000 - val_loss: 36498051072.0000\n",
            "Epoch 73/500\n",
            "53/53 [==============================] - 0s 8ms/step - loss: 17338318848.0000 - val_loss: 28635944960.0000\n",
            "Epoch 74/500\n",
            "53/53 [==============================] - 0s 8ms/step - loss: 13623521280.0000 - val_loss: 25814786048.0000\n",
            "Epoch 75/500\n",
            "53/53 [==============================] - 0s 8ms/step - loss: 14212195328.0000 - val_loss: 26255847424.0000\n",
            "Epoch 76/500\n",
            "53/53 [==============================] - 0s 8ms/step - loss: 13503977472.0000 - val_loss: 26974138368.0000\n",
            "Epoch 77/500\n",
            "53/53 [==============================] - 0s 7ms/step - loss: 12302469120.0000 - val_loss: 29549037568.0000\n",
            "Epoch 78/500\n",
            "53/53 [==============================] - 0s 8ms/step - loss: 15065631744.0000 - val_loss: 25731999744.0000\n",
            "Epoch 79/500\n",
            "53/53 [==============================] - 0s 7ms/step - loss: 14788854784.0000 - val_loss: 25298683904.0000\n",
            "Epoch 80/500\n",
            "53/53 [==============================] - 0s 8ms/step - loss: 13083544576.0000 - val_loss: 31068268544.0000\n",
            "Epoch 81/500\n",
            "53/53 [==============================] - 0s 8ms/step - loss: 12298680320.0000 - val_loss: 26417332224.0000\n",
            "Epoch 82/500\n",
            "53/53 [==============================] - 0s 8ms/step - loss: 23920689152.0000 - val_loss: 31845855232.0000\n",
            "Epoch 83/500\n",
            "53/53 [==============================] - 0s 8ms/step - loss: 20560672768.0000 - val_loss: 40010407936.0000\n",
            "Epoch 84/500\n",
            "53/53 [==============================] - 1s 11ms/step - loss: 16547539968.0000 - val_loss: 25963108352.0000\n",
            "Epoch 85/500\n",
            "53/53 [==============================] - 1s 11ms/step - loss: 11734082560.0000 - val_loss: 40427548672.0000\n",
            "Epoch 86/500\n",
            "53/53 [==============================] - 1s 11ms/step - loss: 15066398720.0000 - val_loss: 25032431616.0000\n",
            "Epoch 87/500\n",
            "53/53 [==============================] - 1s 14ms/step - loss: 15378002944.0000 - val_loss: 30263451648.0000\n",
            "Epoch 88/500\n",
            "53/53 [==============================] - 1s 13ms/step - loss: 13644655616.0000 - val_loss: 22090055680.0000\n",
            "Epoch 89/500\n",
            "53/53 [==============================] - 1s 13ms/step - loss: 13650564096.0000 - val_loss: 24700065792.0000\n",
            "Epoch 90/500\n",
            "53/53 [==============================] - 1s 14ms/step - loss: 13662810112.0000 - val_loss: 28516792320.0000\n",
            "Epoch 91/500\n",
            "53/53 [==============================] - 0s 9ms/step - loss: 12603737088.0000 - val_loss: 26269999104.0000\n",
            "Epoch 92/500\n",
            "53/53 [==============================] - 0s 8ms/step - loss: 11874805760.0000 - val_loss: 25321895936.0000\n",
            "Epoch 93/500\n",
            "53/53 [==============================] - 0s 8ms/step - loss: 17499971584.0000 - val_loss: 25779865600.0000\n",
            "Epoch 94/500\n",
            "53/53 [==============================] - 0s 8ms/step - loss: 12954211328.0000 - val_loss: 33353314304.0000\n",
            "Epoch 95/500\n",
            "53/53 [==============================] - 0s 8ms/step - loss: 13291115520.0000 - val_loss: 22583805952.0000\n",
            "Epoch 96/500\n",
            "53/53 [==============================] - 0s 7ms/step - loss: 18013921280.0000 - val_loss: 23670028288.0000\n",
            "Epoch 97/500\n",
            "53/53 [==============================] - 0s 7ms/step - loss: 14812306432.0000 - val_loss: 22417364992.0000\n",
            "Epoch 98/500\n",
            "53/53 [==============================] - 0s 7ms/step - loss: 12998201344.0000 - val_loss: 23749818368.0000\n",
            "Epoch 99/500\n",
            "53/53 [==============================] - 0s 8ms/step - loss: 12324018176.0000 - val_loss: 34435735552.0000\n",
            "Epoch 100/500\n",
            "53/53 [==============================] - 0s 8ms/step - loss: 19765090304.0000 - val_loss: 28339394560.0000\n",
            "Epoch 101/500\n",
            "53/53 [==============================] - 0s 8ms/step - loss: 12622483456.0000 - val_loss: 23820910592.0000\n",
            "Epoch 102/500\n",
            "53/53 [==============================] - 0s 8ms/step - loss: 17300840448.0000 - val_loss: 26584711168.0000\n",
            "Epoch 103/500\n",
            "53/53 [==============================] - 0s 8ms/step - loss: 14857126912.0000 - val_loss: 23416811520.0000\n",
            "Epoch 104/500\n",
            "53/53 [==============================] - 0s 8ms/step - loss: 13727862784.0000 - val_loss: 27948398592.0000\n",
            "Epoch 105/500\n",
            "53/53 [==============================] - 0s 8ms/step - loss: 11876102144.0000 - val_loss: 28366602240.0000\n",
            "Epoch 106/500\n",
            "53/53 [==============================] - 0s 8ms/step - loss: 18023673856.0000 - val_loss: 28695085056.0000\n",
            "Epoch 107/500\n",
            "53/53 [==============================] - 0s 8ms/step - loss: 15905351680.0000 - val_loss: 23482429440.0000\n",
            "Epoch 108/500\n",
            "53/53 [==============================] - 0s 7ms/step - loss: 12854780928.0000 - val_loss: 25827461120.0000\n",
            "Epoch 109/500\n",
            "53/53 [==============================] - 0s 7ms/step - loss: 13509160960.0000 - val_loss: 23883931648.0000\n",
            "Epoch 110/500\n",
            "53/53 [==============================] - 0s 8ms/step - loss: 13799067648.0000 - val_loss: 28702380032.0000\n",
            "Epoch 111/500\n",
            "53/53 [==============================] - 0s 8ms/step - loss: 12254042112.0000 - val_loss: 27699306496.0000\n",
            "Epoch 112/500\n",
            "53/53 [==============================] - 0s 8ms/step - loss: 12877694976.0000 - val_loss: 23466192896.0000\n",
            "Epoch 112: early stopping\n"
          ]
        },
        {
          "output_type": "execute_result",
          "data": {
            "text/plain": [
              "<keras.callbacks.History at 0x7f1912b0bbe0>"
            ]
          },
          "metadata": {},
          "execution_count": 33
        }
      ]
    },
    {
      "cell_type": "code",
      "source": [
        "from sklearn.metrics import mean_squared_error, r2_score\n",
        "ypred=model.predict(xtest)\n",
        "print(\"MSE\",mean_squared_error(ytest,ypred))\n",
        "print(\"R2 Score\",r2_score(ytest,ypred))"
      ],
      "metadata": {
        "colab": {
          "base_uri": "https://localhost:8080/"
        },
        "id": "0CtLDPsqzwGL",
        "outputId": "b5634aa5-3fde-4737-c9e5-1c76a7055369"
      },
      "execution_count": 34,
      "outputs": [
        {
          "output_type": "stream",
          "name": "stdout",
          "text": [
            "45/45 [==============================] - 0s 2ms/step\n",
            "MSE 23466190875.52165\n",
            "R2 Score 0.7612287243244102\n"
          ]
        }
      ]
    },
    {
      "cell_type": "code",
      "source": [
        "from tensorflow.keras.models import load_model\n",
        "model.save(\"millets_model\")\n",
        "storemodel=load_model(\"millets_model\")\n",
        "\n"
      ],
      "metadata": {
        "colab": {
          "base_uri": "https://localhost:8080/"
        },
        "id": "wXPbjjWG1RJU",
        "outputId": "31056206-c2fe-4c17-b4db-cbc147a291b9"
      },
      "execution_count": 38,
      "outputs": [
        {
          "output_type": "stream",
          "name": "stderr",
          "text": [
            "WARNING:absl:Found untraced functions such as _update_step_xla while saving (showing 1 of 1). These functions will not be directly callable after loading.\n"
          ]
        }
      ]
    }
  ]
}